{
 "cells": [
  {
   "cell_type": "markdown",
   "metadata": {},
   "source": [
    "<img src=\"https://images.efollett.com/htmlroot/images/templates/storeLogos/CA/864.gif\" style=\"float: right;\"> \n",
    "\n",
    "\n",
    "\n",
    "\n",
    "# ECON611\n",
    "### HW_1 -  Python "
   ]
  },
  {
   "cell_type": "code",
   "execution_count": 2,
   "metadata": {
    "collapsed": true
   },
   "outputs": [],
   "source": [
    "# Packages you can use. DO NOT USE ANY OTHER PACKAGE BESIDES THESE\n",
    "import json\n",
    "import re"
   ]
  },
  {
   "cell_type": "markdown",
   "metadata": {},
   "source": [
    "# Homework 1\n",
    "\n",
    "This homework will help you practice working with loops and strings. Both are fundamental for computer science, so please make sure to ask Javi/Stephen/Lilla if you have any questions. If you don't understand these concepts, the class will be very difficult because you will see them in all following homeworks.\n",
    "  \n",
    "  \n",
    "Unless explicitly stated, you can use whatever you want to answer the question"
   ]
  },
  {
   "cell_type": "markdown",
   "metadata": {},
   "source": [
    "## Warm-up"
   ]
  },
  {
   "cell_type": "markdown",
   "metadata": {},
   "source": [
    "#### 1. Reverse the string \"Hello world\" "
   ]
  },
  {
   "cell_type": "code",
   "execution_count": 1,
   "metadata": {},
   "outputs": [
    {
     "name": "stdout",
     "output_type": "stream",
     "text": [
      "sdrawkcab ekil skool txet siht woh rednow I\n"
     ]
    }
   ],
   "source": [
    "inp = 'Hello world'\n",
    "#Create a function\n",
    "def function(x):\n",
    "    #Slice and return the string\n",
    "  return x[::-1]\n",
    "#Call the function\n",
    "txt = function(\"I wonder how this text looks like backwards\")\n",
    "#Print the result\n",
    "print(txt)"
   ]
  },
  {
   "cell_type": "markdown",
   "metadata": {},
   "source": [
    "#### 2. Given the list below, create a new list that has each string repeated 6 times  \n",
    "Ex. ['a', 'Hello'] -> ['aaaaaa', 'HelloHelloHelloHelloHelloHello']"
   ]
  },
  {
   "cell_type": "code",
   "execution_count": 2,
   "metadata": {},
   "outputs": [
    {
     "data": {
      "text/plain": [
       "['Hello world',\n",
       " 'Hello world',\n",
       " 'Hello world',\n",
       " 'Hello world',\n",
       " 'Hello world',\n",
       " 'Hello world',\n",
       " 'ECON 611',\n",
       " 'ECON 611',\n",
       " 'ECON 611',\n",
       " 'ECON 611',\n",
       " 'ECON 611',\n",
       " 'ECON 611',\n",
       " 'abc',\n",
       " 'abc',\n",
       " 'abc',\n",
       " 'abc',\n",
       " 'abc',\n",
       " 'abc',\n",
       " 'def',\n",
       " 'def',\n",
       " 'def',\n",
       " 'def',\n",
       " 'def',\n",
       " 'def']"
      ]
     },
     "execution_count": 2,
     "metadata": {},
     "output_type": "execute_result"
    }
   ],
   "source": [
    "inp = ['Hello world', 'ECON 611', 'abc', 'def']\n",
    "x=['Hello world', 'ECON 611', 'abc', 'def']\n",
    "#Repeat times\n",
    "n = 6\n",
    "#list comprehension\n",
    "new = [item for item in x for i in range(n)]\n",
    "new"
   ]
  },
  {
   "cell_type": "markdown",
   "metadata": {},
   "source": [
    "#### 3. Find the first and last vowel of each word in a sentence (ignore y)\n",
    "Input: My dog is extremely beautiful  \n",
    "output: [(None, None), (o, o), (e, e), (e, u)]"
   ]
  },
  {
   "cell_type": "code",
   "execution_count": 43,
   "metadata": {},
   "outputs": [
    {
     "name": "stdout",
     "output_type": "stream",
     "text": [
      "9\n",
      "['o', 'i', 'e', 'e', 'e', 'e', 'u', 'i', 'u']\n"
     ]
    }
   ],
   "source": [
    "inp = \"My dog is extremely beautiful\"\n",
    "# Using dictionary \n",
    "def Check_Vow(string, vowels): \n",
    "    final = [each for each in string if each in vowels] \n",
    "    print(len(final)) \n",
    "    print(final) \n",
    "# Simply using for and comparing it with a string containg all vowels      \n",
    "# Driver Code \n",
    "string = \"My dog is extremely beautiful\"\n",
    "vowels = \"AeEeIiOoUu\"\n",
    "Check_Vow(string, vowels); "
   ]
  },
  {
   "cell_type": "markdown",
   "metadata": {},
   "source": [
    "#### 4. Remove repeated characters from a string (don't worry about case)\n",
    "Input: \"Eeeecconooomiicssss\"  \n",
    "Output: \"Economics\""
   ]
  },
  {
   "cell_type": "code",
   "execution_count": 7,
   "metadata": {},
   "outputs": [
    {
     "name": "stdout",
     "output_type": "stream",
     "text": [
      "Eeconmis\n"
     ]
    }
   ],
   "source": [
    "inp = \"Eeeecconooomiicssss\"\n",
    "#Create a list\n",
    "def fix(string):\n",
    "    s = set()\n",
    "    list = []\n",
    "    for ch in string:\n",
    "        if ch not in s:\n",
    "            s.add(ch)\n",
    "            list.append(ch)\n",
    "\n",
    "    return ''.join(list)        \n",
    "#Then run the print\n",
    "string = \"Eeeecconooomiicssss\"\n",
    "print(fix(string))"
   ]
  },
  {
   "cell_type": "markdown",
   "metadata": {},
   "source": [
    "## Problem 1\n",
    "### Data\n",
    "In this problem, you will be working with raw html files of the webpages for the child welfare program in the nber working paper series ([example](https://www.nber.org/papers/w26242)).\n",
    "\n",
    "### Basic information about html\n",
    "Html documents have tags listed in &lt;> that identify information about the content the tag refers to.  \n",
    "There are two different types of tags:  \n",
    "1. <b>Start and end tag</b>. There is a tag that signifies the start and a tag that indicates the end. \n",
    "For example,  \n",
    "&lt;title>  \n",
    "   Fathers' Multiple-Partner Fertility and Children's Educational Outcomes  \n",
    "&lt;/title>  \n",
    "The end tag is always &lt;/[NAME OF TAG]>, while the start tag might have information after the tag (&lt;p style=\"margin-left: 40px; margin-right: 40px; text-align: justify\"> is a head tag with name p)  \n",
    "  \n",
    "2. <b>In-place tags</b>. These are tags that open and close itself. For example, &lt;meta content=\"Donna K. Ginther\" name=\"keyword\"/>. The /> at the end signifies closing the tag.\n",
    "\n",
    "Refer to the example below to see what an html file looks like."
   ]
  },
  {
   "cell_type": "code",
   "execution_count": 6,
   "metadata": {
    "collapsed": true
   },
   "outputs": [],
   "source": [
    "# loads the raw html files for your hw.\n",
    "# The data format is a list of strings, where each string is the webpage \n",
    "with open('../datasets/nber.json') as f:\n",
    "    data = json.load(f)"
   ]
  },
  {
   "cell_type": "code",
   "execution_count": 11,
   "metadata": {},
   "outputs": [
    {
     "name": "stdout",
     "output_type": "stream",
     "text": [
      "<!DOCTYPE html PUBLIC \"-//W3C//DTD HTML 4.01 Transitional//EN\"  \"http://www.w3.org/TR/html4/loose.dtd\">\n",
      "<html prefix=\"og: http://ogp.me/ns#\">\n",
      " <head>\n",
      "  <title>\n",
      "   Fathers' Multiple-Partner Fertility and Children's Educational Outcomes\n",
      "  </title>\n",
      "  <meta content=\"text/html; charset=utf-8\" http-equiv=\"Content-Type\"/>\n",
      "  <meta content=\"Fathers' Multiple-Partner Fertility and Children’s Educational Outcomes\" name=\"citation_title\"/>\n",
      "  <meta content=\"Donna K. Ginther\" name=\"keyword\"/>\n",
      "  <meta content=\"Astrid L. Grasdal\" name=\"keyword\"/>\n",
      "  <meta content=\"Robert A. Pollak\" name=\"keyword\"/>\n",
      "  <meta content=\"Ginther, Donna K\" name=\"citation_author\"/>\n",
      "  <meta content=\"Grasdal, Astrid L\" name=\"citation_author\"/>\n",
      "  <meta content=\"Pollak, Robert A\" name=\"citation_author\"/>\n",
      "  <meta content=\"2019-09-05\" name=\"DC.Date\"/>\n",
      "  <meta content=\"2019-09-05\" name=\"citation_date\"/>\n",
      "  <meta content=\"2019/09/05\" name=\"citation_publication_date\"/>\n",
      "  <meta content=\"NBER\" property=\"og:site_name\"/>\n",
      "  <meta content=\"https://www.nber.org/papers/w26242\" property=\"og:URL\"/>\n",
      "  <meta content=\"National Bureau of Economic Research\" name=\"citation_technical_report_institution\"/>\n",
      "  <meta content=\"w26242\" name=\"citation_technical_report_number\"/>\n",
      "  <meta content=\"article\" property=\"og:type\"/>\n",
      "  <meta content=\"National Bureau of Economic Research Working Paper Series\" name=\"citation_journal_title\"/>\n",
      "  <meta content=\"0898-2937\" name=\"citation_journal_issn\"/>\n",
      "  <meta content=\"2019-09-05\" name=\"google_sort_date\"/>\n",
      "  <meta content=\"https://www.nber.org/papers/w26242.pdf\" name=\"citation_pdf_url\"/>\n",
      "  <script type=\"text/javascript\">\n",
      "   var djConfig = {\r\n",
      "            parseOnLoad: true,\r\n",
      "            isDebug: false\r\n",
      "        };\n",
      "  </script>\n",
      "  <script src=\"/2009_redesign/dojo-1.3/dojo/dojo.js\" type=\"text/javascript\">\n",
      "  </script>\n",
      "  <link href=\"/2009_redesign/dojo-1.3/dijit/themes/tundra/tundra.css\" rel=\"stylesheet\"/>\n",
      "  <link href=\"/2009_redesign/2009.css\" rel=\"stylesheet\" type=\"text/css\"/>\n",
      "  <link href=\"/img_2009/NBER_logo_20\n"
     ]
    }
   ],
   "source": [
    "print(data[0][0:2000]) # example of data"
   ]
  },
  {
   "cell_type": "markdown",
   "metadata": {},
   "source": [
    "#### 1.\n",
    "Extract the  \n",
    "<b>i)   Title</b>   \n",
    "This can be found between &lt;title> and &lt;/title>, e.g.  \n",
    "&lt;title>Child Access Prevention Laws and Juvenile Firearm-Related Homicides&lt;/title>  \n",
    "  \n",
    "<b>ii)  Date of publication</b>  \n",
    "This can be found in the content section of a &lt;meta> tag when the name section is citation_author, e.g.  \n",
    "&lt;meta content=\"2019-09-05\" name=\"citation_date\"/>\n",
    "  \n",
    "<b>iii) Authors (return this as a list of lists, where each sub-list is the list of authors for that paper)</b>  \n",
    "This can be found in the content section of a &lt;meta> tag when the name section is citation_author, e.g.  \n",
    "&lt;meta content=\"Ginther, Donna K\" name=\"citation_author\"/>  \n",
    "  \n",
    "<b>iv) Abstract </b>  \n",
    "The head tag for this is &lt;p style=\"margin-left: 40px; margin-right: 40px; text-align: justify\">\n",
    "\n",
    "<b>Example</b>  \n",
    "If I had the texts from the following two papers [1](https://www.nber.org/papers/w26242) [2](https://www.nber.org/papers/w26238), my outputs would be:  \n",
    "  \n",
    "i)   [\"Fathers' Multiple-Partner Fertility and Children's Educational Outcomes\",  \n",
    "      \"Changes in Family Structure and Welfare Participation Since the 1960s: The Role of Legal Services\"]    \n",
    "  \n",
    "ii)  [\"2019-09-05\", \"2019-09-05\"]    \n",
    "  \n",
    "iii) [[\"Ginther, Donna K\", \"Grasdal, Astrid L\", \"Pollak, Robert A\"],  \n",
    "      [\"Goodman-Bacon, Andrew\", \"Cunningham, Jamein P\"]]"
   ]
  },
  {
   "cell_type": "code",
   "execution_count": 47,
   "metadata": {},
   "outputs": [
    {
     "name": "stdout",
     "output_type": "stream",
     "text": [
      "<!DOCTYPE html PUBLIC \"-//W3C//DTD HTML 4.01 Transitional//EN\"  \"http://www.w3.org/TR/html4/loose.dtd\">\n",
      "<html prefix=\"og: http://ogp.me/ns#\"><head><title>Fathers' Multiple-Partner Fertility and Children's Educational Outcomes</title>\n",
      "<meta http-equiv=\"Content-Type\" content=\"text/html; charset=utf-8\"/>\n",
      "<meta name=\"citation_title\" content=\"Fathers' Multiple-Partner Fertility and Children’s Educational Outcomes\">\n",
      "<meta name=\"keyword\" content=\"Donna K. Ginther\">\n",
      "<meta name=\"keyword\" content=\"Astrid L. Grasdal\">\n",
      "<meta name=\"keyword\" content=\"Robert A. Pollak\">\n",
      "<meta name=\"citation_author\" content=\"Ginther, Donna K\">\n",
      "<meta name=\"citation_author\" content=\"Grasdal, Astrid L\">\n",
      "<meta name=\"citation_author\" content=\"Pollak, Robert A\">\n",
      "<meta name=\"DC.Date\" content=\"2019-09-05\">\n",
      "<meta name=\"citation_date\" content=\"2019-09-05\">\n",
      "<meta name=\"citation_publication_date\" content=\"2019/09/05\">\n",
      "<meta property=\"og:site_name\" content=\"NBER\">\n",
      "<meta property=\"og:URL\" content=\"https://www.nber.org/papers/w26242\">\n",
      "<meta name=\"citation_technical_report_institution\" content=\"National Bureau of Economic Research\">\n",
      "<meta name=\"citation_technical_report_number\" content=\"w26242\">\n",
      "<meta property=\"og:type\" content=\"article\">\n",
      "<meta name=\"citation_journal_title\" content=\"National Bureau of Economic Research Working Paper Series\">\n",
      "<meta name=\"citation_journal_issn\" content=\"0898-2937\">\n",
      "<meta name=\"google_sort_date\" content=\"2019-09-05\">\n",
      "<meta name=\"citation_pdf_url\" content=\"https://www.nber.org/papers/w26242.pdf\">\n",
      "<script type=\"text/javascript\">\n",
      "        var djConfig = {\n",
      "            parseOnLoad: true,\n",
      "            isDebug: false\n",
      "        };\n",
      "</script>\n",
      "<script type=\"text/javascript\"\n",
      "        src=\"/2009_redesign/dojo-1.3/dojo/dojo.js\"></script>\n",
      "<link rel=\"stylesheet\" href=\"/2009_redesign/dojo-1.3/dijit/themes/tundra/tundra.css\">\n",
      "<link rel=\"stylesheet\" href=\"/2009_redesign/2009.css\" type=\"text/css\">\n",
      "<link rel=\"image_src\" href=\"/img_2009/NBER_logo_2014.jpg\" / ><!--formatted-->\n",
      "<script language=\"JavaS\n",
      "<title>Fathers' Multiple-Partner Fertility and Children's Educational Outcomes</title>\n",
      "Fathers' Multiple-Partner Fertility and Children's Educational Outcomes\n",
      "None\n",
      "None\n",
      "None\n"
     ]
    }
   ],
   "source": [
    "import json #import json\n",
    "with open('../database/nber.json') as f:\n",
    "    data = json.load(f)\n",
    "    print(data[0][0:2000]) # example of data\n",
    "\n",
    "from urllib import request\n",
    "url = \"https://www.nber.org/papers/w26242\"\n",
    "html = request.urlopen(url).read().decode('utf8')\n",
    "html[:60]\n",
    "    \n",
    "from bs4 import BeautifulSoup\n",
    "soup = BeautifulSoup(html, 'html.parser')\n",
    "title = soup.find('title')#title\n",
    "print(title) # Prints the tag\n",
    "print(title.string) # Prints the tag string content\n",
    "\n",
    "dop = soup.find('citation_date') #Date of publication\n",
    "print(dop) # Prints the tag\n",
    "\n",
    "authors = soup.find('citation_author') #Authors\n",
    "print(authors) # Prints the tag\n",
    "\n",
    "abstract = soup.find('p style') #Abstract \n",
    "print(abstract) # Prints the tag\n"
   ]
  },
  {
   "cell_type": "code",
   "execution_count": null,
   "metadata": {},
   "outputs": [],
   "source": []
  }
 ],
 "metadata": {
  "kernelspec": {
   "display_name": "Python 3",
   "language": "python",
   "name": "python3"
  },
  "language_info": {
   "codemirror_mode": {
    "name": "ipython",
    "version": 3
   },
   "file_extension": ".py",
   "mimetype": "text/x-python",
   "name": "python",
   "nbconvert_exporter": "python",
   "pygments_lexer": "ipython3",
   "version": "3.7.3"
  }
 },
 "nbformat": 4,
 "nbformat_minor": 2
}
