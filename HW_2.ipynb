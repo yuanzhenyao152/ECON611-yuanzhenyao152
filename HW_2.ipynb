{
 "cells": [
  {
   "cell_type": "markdown",
   "metadata": {},
   "source": [
    "<img src=\"https://images.efollett.com/htmlroot/images/templates/storeLogos/CA/864.gif\" style=\"float: right;\"> \n",
    "\n",
    "\n",
    "\n",
    "\n",
    "# ECON611\n",
    "### HW_2 -  Python: Lists and Dictionaries\n",
    "#### Due: September 30"
   ]
  },
  {
   "cell_type": "markdown",
   "metadata": {},
   "source": [
    "Lists are the foundational data structures used in Python. "
   ]
  },
  {
   "cell_type": "code",
   "execution_count": 7,
   "metadata": {},
   "outputs": [],
   "source": [
    "import json"
   ]
  },
  {
   "cell_type": "markdown",
   "metadata": {},
   "source": [
    "### Warm-up (30 points)\n",
    "Some people were having trouble solving some of the warm-up questions, so we are breaking them down in sub-questions for at least the first two assignments. If you have a different way you want to do, please feel free to ignore the break-down.\n",
    "#### 1. \n",
    "Reverse the first half of a list\n",
    "  \n",
    "a) Create a new variable that holds the first half of the list. If the last has an odd number of elements, round down (i.e. len(list) = 5, reverse the first two elements).  \n",
    "  \n",
    "b) Reverse the list created in a)  \n",
    "  \n",
    "c) Append the second half of the ```inp``` list to the end of the list from b)  \n",
    "  \n",
    "input: ```[1, 2, 3, 4, 5, 6, 7]```  \n",
    "output: ```[3, 2, 1, 4, 5, 6, 7]```  "
   ]
  },
  {
   "cell_type": "code",
   "execution_count": 17,
   "metadata": {},
   "outputs": [
    {
     "name": "stdout",
     "output_type": "stream",
     "text": [
      "[3, 2, 1, 4, 5, 6, 7]\n"
     ]
    }
   ],
   "source": [
    "inp = [1, 2, 3, 4, 5, 6, 7]\n",
    "#How much to reverse\n",
    "quantityToReverse = 3\n",
    "#How much reserve\n",
    "remainder = len(inp) - quantityToReverse\n",
    "#Combine\n",
    "reverse = list(reversed(inp[:quantityToReverse]))+inp[-remainder:]\n",
    "\n",
    "print(reverse)"
   ]
  },
  {
   "cell_type": "markdown",
   "metadata": {},
   "source": [
    "### 2.\n",
    "Given two lists, write all the possible combinations of the two into a new list.  \n",
    "  \n",
    "input: ```[1, 2, 3, 4]``` and ```['a', 'b', 'c', 'd']```  \n",
    "output: ```[(1, 'a'), (1, 'b'), (1, 'c'), (1, 'd'), (2, 'a'), (2, 'b'), (2, 'c'), (2, 'd'), (3, 'a'), (3, 'b'), (3, 'c'), (3, 'd'), (4, 'a'), (4, 'b'), (4, 'c'), (4, 'd')]```  \n",
    "  \n",
    "a) Create an empty list  \n",
    "  \n",
    "b) loop through both lists and append a tuple of (list 1 element, list 2 element) to the output list. HINT: use a for loop"
   ]
  },
  {
   "cell_type": "code",
   "execution_count": 25,
   "metadata": {},
   "outputs": [
    {
     "data": {
      "text/plain": [
       "[(1, 'a'),\n",
       " (1, 'b'),\n",
       " (1, 'c'),\n",
       " (1, 'd'),\n",
       " (2, 'a'),\n",
       " (2, 'b'),\n",
       " (2, 'c'),\n",
       " (2, 'd'),\n",
       " (3, 'a'),\n",
       " (3, 'b'),\n",
       " (3, 'c'),\n",
       " (3, 'd'),\n",
       " (4, 'a'),\n",
       " (4, 'b'),\n",
       " (4, 'c'),\n",
       " (4, 'd')]"
      ]
     },
     "execution_count": 25,
     "metadata": {},
     "output_type": "execute_result"
    }
   ],
   "source": [
    "inp1 = [1, 2, 3, 4]\n",
    "inp2 = ['a', 'b', 'c', 'd']\n",
    "#Use itertools\n",
    "import itertools\n",
    "\n",
    "list(itertools.product(inp1,inp2))"
   ]
  },
  {
   "cell_type": "markdown",
   "metadata": {},
   "source": [
    "#### 3.\n",
    "Given two sorted lists, merge them maintaining the sorted order.  \n",
    "  \n",
    "input: ```[1, 3, 6]``` and ```[1, 2, 5, 14]```  \n",
    "output: ```[1, 1, 2, 3, 5, 6, 14]```\n",
    "  \n",
    "a) Create an empty list. \n",
    "  \n",
    "b) You will need to loop through both lists at the same time. If the element you are looking at in ```inp1``` is less than the element you are looking at in ```inp2```, append the element in ```inp1``` to the list created in a) and move on to the next element in ```inp1```. If the element is in ```inp2```, append that element to a) and move on to the next element in ```inp2```.  HINT: you probably want to use a while loop.\n",
    "  \n",
    "\n"
   ]
  },
  {
   "cell_type": "code",
   "execution_count": 35,
   "metadata": {},
   "outputs": [],
   "source": [
    "inp1 = [1, 3, 6]\n",
    "inp2 = [1, 2, 5, 14]\n",
    "def merge_lists(inp1, inp2):\n",
    "    if inp1 is None:\n",
    "        return inp2\n",
    "    if inp2 is None:\n",
    "        return inp1\n",
    "\n",
    "    if (inp1.value < inp2.value):\n",
    "        inp1.next = merge_lists(inp1.next, inp2)\n",
    "        return inp1\n",
    "    else:\n",
    "        inp2.next = merge_lists(inp2.next, inp1)\n",
    "        return inp2\n",
    "    print (merge_lists(inp1, inp2))"
   ]
  },
  {
   "cell_type": "markdown",
   "metadata": {},
   "source": [
    "### Questions (70 points)"
   ]
  },
  {
   "cell_type": "code",
   "execution_count": 51,
   "metadata": {},
   "outputs": [
    {
     "name": "stdout",
     "output_type": "stream",
     "text": [
      "[[0, 1, 101.93602021280064, 185.10884418022408], [1, 2, 10.894342157462795, 8.047874427041796], [2, 20, 11.844080983593695, 8.4577208847232], [3, 19, 6.869088216468875, 11.785942454295737], [4, 16, 47.72272164918158, 27.61836283780311], [5, 22, 2.01065653510808, 1.488040201120746], [6, 0, 114.98615895612085, 112.55633944579581], [7, 23, 9.382001305961644, 7.416327399625584], [8, 18, 27.633784384417876, 20.77468832296961], [9, 10, 15.652483970052266, 24.753829928072122], [10, 8, 86.67001160500293, 68.68867296598606], [11, 13, 2.5596212299714503, 2.6842976005599124], [12, 3, 14.549880724957704, 9.893762292749553], [13, 0, 13.680146830104597, 12.169681539543351], [14, 8, 62.41274131894139, 79.6307879103853], [15, 20, 6.686621457064503, 6.524855620725107], [16, 13, 16.904363645055092, 13.974590182860403], [17, 18, 8.348998420926767, 0.0], [18, 15, 20.951573411360123, 21.031023302921643], [19, 9, 35.974674821372155, 18.473501093393917], [20, 0, 6.68175597014865, 6.981673608425863], [21, 12, 63.100185532726115, 94.87682726930174], [22, 19, 49.481097135593195, 27.475684904333843], [23, 24, 33.19815622211637, 11.0115108577283], [24, 17, 49.44475319799778, 43.097270647050806], [25, 10, 10.137811442815627, 12.132840152006244], [26, 20, 17.762860245948158, 0.9239249020898797], [27, 12, 7.879233012873762, 4.476118898291954], [28, 15, 15.36530307441098, 7.532834659401003], [29, 14, 34.13609970636612, 37.726833737852374], [30, 19, 10.057707422315108, 9.435844765588472], [31, 19, 13.507518726918216, 15.524048754078839], [32, 11, 10.10294837819472, 13.01759268315648], [33, 22, 8.626116109119005, 6.907099655436624], [34, 7, 10.265141849856382, 13.732991328541196], [35, 3, 19.832765655877182, 14.20370431676983], [36, 21, 6.571155231516867, 2.101090268889701], [37, 15, 25.391531116496136, 27.847402649361158], [38, 14, 105.61518698842477, 75.89171930050317], [39, 19, 42.184133232011646, 44.51825494617568], [40, 2, 16.579457808565337, 28.380999757967043], [41, 4, 8.267821364312567, 0.5704442282830922], [42, 4, 9.514735539017783, 11.070985742707188], [43, 0, 109.12069912672433, 132.04285641398295], [44, 19, 21.132407333241474, 17.89222098635391], [45, 3, 10.622818259369566, 9.666412726728437], [46, 24, 24.310673307335673, 19.145990007036637], [47, 19, 164.06376061070935, 123.00191786686443], [48, 5, 22.649979627525237, 2.1543799371058405], [49, 6, 37.23328464334909, 18.95790994890788], [50, 15, 27.117257137397296, 41.58566317671651], [51, 7, 14.122230026832256, 21.74773012102341], [52, 5, 6.407580880600212, 6.971451662490625], [53, 15, 14.163344835784828, 15.063912067368367], [54, 17, 16.29903276734249, 0.0], [55, 23, 36.11192673269095, 26.97806437876445], [56, 0, 46.47820132066135, 21.199485851035163], [57, 10, 50.9631122242514, 53.3367291052379], [58, 10, 26.724675783437323, 10.268837264281395], [59, 2, 48.673812977855725, 54.21916041454727], [60, 24, 9.446100954942395, 17.741635061986635], [61, 2, 70.30677418245453, 43.92120954104281], [62, 17, 33.54640889956518, 27.473226475171572], [63, 4, 14.90813690497092, 15.006340651988882], [64, 0, 32.737399715489886, 38.86451348611779], [65, 20, 18.62357566500094, 1.4009477209809091], [66, 14, 62.27931744518522, 53.61922014980544], [67, 17, 91.81877674548346, 106.4109348247947], [68, 7, 178.67623168733564, 146.6251970263063], [69, 3, 4.970416624745941, 4.866188370222256], [70, 17, 4.739284593006167, 7.7201549029374785], [71, 22, 12.128209915102662, 15.93858998208853], [72, 6, 23.57146969423915, 11.751246010056207], [73, 9, 48.239052995253004, 67.24470832754433], [74, 10, 27.53987480182238, 12.983404969564496], [75, 13, 2.6585976490665546, 3.3792866771056964], [76, 6, 14.78770344881711, 21.585680886017283], [77, 6, 45.969339544059835, 47.13544782597606], [78, 16, 25.282051961920903, 40.468391003966914], [79, 16, 43.034889925673376, 41.183990855265904], [80, 18, 16.08153721918525, 14.890405292882473], [81, 12, 16.43218531923161, 17.575259647506], [82, 9, 24.205052466733207, 1.1750509043183825], [83, 22, 30.266807415139247, 65.52978810238129], [84, 0, 24.49085347086565, 20.74050130845982], [85, 22, 22.62394018433381, 6.152992590599915], [86, 23, 10.271136846860557, 0.0], [87, 16, 29.299304727977734, 25.70350058047658], [88, 19, 22.68766241963084, 22.72145565029654], [89, 9, 62.145841679833886, 53.82618038848521], [90, 16, 66.61420745204151, 53.1654070101228], [91, 19, 24.171068887950327, 26.071782626782294], [92, 15, 13.800641131797482, 16.139402318695694], [93, 10, 10.604406184657085, 4.749546568244925], [94, 4, 30.676422232324008, 41.460195425235455], [95, 23, 21.700603437696653, 18.16926742206261], [96, 14, 14.241301858164165, 9.685881322064368], [97, 21, 20.980571793902456, 27.87873500292476], [98, 14, 10.804893745157548, 14.133833100725543], [99, 3, 40.367783715839934, 19.70418730186274]]\n"
     ]
    }
   ],
   "source": [
    "import json\n",
    "with open('../database/hw_2.json') as f:\n",
    "    products = json.load(f)"
   ]
  },
  {
   "cell_type": "markdown",
   "metadata": {},
   "source": [
    "Stephen goes to target. ```products``` is a list of tuples that contain information about what is in stock there. The format of the tuple is ```(item id, stock, price, how much stephen values the product)```\n",
    "\n",
    "#### 1. Separate the list of tuples into 4 lists\n"
   ]
  },
  {
   "cell_type": "code",
   "execution_count": 45,
   "metadata": {},
   "outputs": [
    {
     "name": "stdout",
     "output_type": "stream",
     "text": [
      "[[[0, 1, 101.93602021280064, 185.10884418022408], [1, 2, 10.894342157462795, 8.047874427041796], [2, 20, 11.844080983593695, 8.4577208847232]], [[3, 19, 6.869088216468875, 11.785942454295737], [4, 16, 47.72272164918158, 27.61836283780311], [5, 22, 2.01065653510808, 1.488040201120746]], [[6, 0, 114.98615895612085, 112.55633944579581], [7, 23, 9.382001305961644, 7.416327399625584], [8, 18, 27.633784384417876, 20.77468832296961]], [[9, 10, 15.652483970052266, 24.753829928072122], [10, 8, 86.67001160500293, 68.68867296598606], [11, 13, 2.5596212299714503, 2.6842976005599124]], [[12, 3, 14.549880724957704, 9.893762292749553], [13, 0, 13.680146830104597, 12.169681539543351], [14, 8, 62.41274131894139, 79.6307879103853]], [[15, 20, 6.686621457064503, 6.524855620725107], [16, 13, 16.904363645055092, 13.974590182860403], [17, 18, 8.348998420926767, 0.0]], [[18, 15, 20.951573411360123, 21.031023302921643], [19, 9, 35.974674821372155, 18.473501093393917], [20, 0, 6.68175597014865, 6.981673608425863]], [[21, 12, 63.100185532726115, 94.87682726930174], [22, 19, 49.481097135593195, 27.475684904333843], [23, 24, 33.19815622211637, 11.0115108577283]], [[24, 17, 49.44475319799778, 43.097270647050806], [25, 10, 10.137811442815627, 12.132840152006244], [26, 20, 17.762860245948158, 0.9239249020898797]], [[27, 12, 7.879233012873762, 4.476118898291954], [28, 15, 15.36530307441098, 7.532834659401003], [29, 14, 34.13609970636612, 37.726833737852374]], [[30, 19, 10.057707422315108, 9.435844765588472], [31, 19, 13.507518726918216, 15.524048754078839], [32, 11, 10.10294837819472, 13.01759268315648]], [[33, 22, 8.626116109119005, 6.907099655436624], [34, 7, 10.265141849856382, 13.732991328541196], [35, 3, 19.832765655877182, 14.20370431676983]], [[36, 21, 6.571155231516867, 2.101090268889701], [37, 15, 25.391531116496136, 27.847402649361158], [38, 14, 105.61518698842477, 75.89171930050317]], [[39, 19, 42.184133232011646, 44.51825494617568], [40, 2, 16.579457808565337, 28.380999757967043], [41, 4, 8.267821364312567, 0.5704442282830922]], [[42, 4, 9.514735539017783, 11.070985742707188], [43, 0, 109.12069912672433, 132.04285641398295], [44, 19, 21.132407333241474, 17.89222098635391]], [[45, 3, 10.622818259369566, 9.666412726728437], [46, 24, 24.310673307335673, 19.145990007036637], [47, 19, 164.06376061070935, 123.00191786686443]], [[48, 5, 22.649979627525237, 2.1543799371058405], [49, 6, 37.23328464334909, 18.95790994890788], [50, 15, 27.117257137397296, 41.58566317671651]], [[51, 7, 14.122230026832256, 21.74773012102341], [52, 5, 6.407580880600212, 6.971451662490625], [53, 15, 14.163344835784828, 15.063912067368367]], [[54, 17, 16.29903276734249, 0.0], [55, 23, 36.11192673269095, 26.97806437876445], [56, 0, 46.47820132066135, 21.199485851035163]], [[57, 10, 50.9631122242514, 53.3367291052379], [58, 10, 26.724675783437323, 10.268837264281395], [59, 2, 48.673812977855725, 54.21916041454727]], [[60, 24, 9.446100954942395, 17.741635061986635], [61, 2, 70.30677418245453, 43.92120954104281], [62, 17, 33.54640889956518, 27.473226475171572]], [[63, 4, 14.90813690497092, 15.006340651988882], [64, 0, 32.737399715489886, 38.86451348611779], [65, 20, 18.62357566500094, 1.4009477209809091]], [[66, 14, 62.27931744518522, 53.61922014980544], [67, 17, 91.81877674548346, 106.4109348247947], [68, 7, 178.67623168733564, 146.6251970263063]], [[69, 3, 4.970416624745941, 4.866188370222256], [70, 17, 4.739284593006167, 7.7201549029374785], [71, 22, 12.128209915102662, 15.93858998208853]], [[72, 6, 23.57146969423915, 11.751246010056207], [73, 9, 48.239052995253004, 67.24470832754433], [74, 10, 27.53987480182238, 12.983404969564496]], [[75, 13, 2.6585976490665546, 3.3792866771056964], [76, 6, 14.78770344881711, 21.585680886017283], [77, 6, 45.969339544059835, 47.13544782597606]], [[78, 16, 25.282051961920903, 40.468391003966914], [79, 16, 43.034889925673376, 41.183990855265904], [80, 18, 16.08153721918525, 14.890405292882473]], [[81, 12, 16.43218531923161, 17.575259647506], [82, 9, 24.205052466733207, 1.1750509043183825], [83, 22, 30.266807415139247, 65.52978810238129]], [[84, 0, 24.49085347086565, 20.74050130845982], [85, 22, 22.62394018433381, 6.152992590599915], [86, 23, 10.271136846860557, 0.0]], [[87, 16, 29.299304727977734, 25.70350058047658], [88, 19, 22.68766241963084, 22.72145565029654], [89, 9, 62.145841679833886, 53.82618038848521]], [[90, 16, 66.61420745204151, 53.1654070101228], [91, 19, 24.171068887950327, 26.071782626782294], [92, 15, 13.800641131797482, 16.139402318695694]], [[93, 10, 10.604406184657085, 4.749546568244925], [94, 4, 30.676422232324008, 41.460195425235455], [95, 23, 21.700603437696653, 18.16926742206261]], [[96, 14, 14.241301858164165, 9.685881322064368], [97, 21, 20.980571793902456, 27.87873500292476], [98, 14, 10.804893745157548, 14.133833100725543]], [[99, 3, 40.367783715839934, 19.70418730186274]]]\n"
     ]
    }
   ],
   "source": [
    "import json\n",
    "with open('../database/hw_2.json') as f:\n",
    "    products = json.load(f)\n",
    "a = products\n",
    "step = 3\n",
    "b = [a[i:i+step] for i in range(0,len(a),step)]\n",
    "print(b)"
   ]
  },
  {
   "cell_type": "markdown",
   "metadata": {},
   "source": [
    "#### 2. What is the most expensive product? "
   ]
  },
  {
   "cell_type": "code",
   "execution_count": 54,
   "metadata": {},
   "outputs": [
    {
     "name": "stdout",
     "output_type": "stream",
     "text": [
      "most expensive product is: [[99, 3, 40.367783715839934, 19.70418730186274]]\n"
     ]
    }
   ],
   "source": [
    "import json\n",
    "with open('../database/hw_2.json') as f:\n",
    "    products = json.load(f)\n",
    "    step = 3\n",
    "    a = products\n",
    "    b = [a[i:i+step] for i in range(0,len(a),step)]\n",
    "    #most expensive product\n",
    "    print(\"most expensive product is:\", max(b)) "
   ]
  },
  {
   "cell_type": "markdown",
   "metadata": {},
   "source": [
    "#### 3. What are the three cheapest products?\n"
   ]
  },
  {
   "cell_type": "code",
   "execution_count": 56,
   "metadata": {},
   "outputs": [
    {
     "name": "stdout",
     "output_type": "stream",
     "text": [
      "three cheapest products are: <map object at 0x000002D55CAD7D68>\n"
     ]
    }
   ],
   "source": [
    "import json\n",
    "with open('../database/hw_2.json') as f:\n",
    "    products = json.load(f)\n",
    "    step = 3\n",
    "    a = products\n",
    "    b = [a[i:i+step] for i in range(0,len(a),step)]\n",
    "    import heapq\n",
    "    min = map(b.index, heapq.nsmallest(3, b))\n",
    "    #most expensive product\n",
    "    print(\"three cheapest products are:\", min) "
   ]
  },
  {
   "cell_type": "markdown",
   "metadata": {},
   "source": [
    "#### 4.  What is the total value of all the goods in Target"
   ]
  },
  {
   "cell_type": "code",
   "execution_count": 63,
   "metadata": {},
   "outputs": [
    {
     "ename": "TypeError",
     "evalue": "unsupported operand type(s) for +: 'int' and 'list'",
     "output_type": "error",
     "traceback": [
      "\u001b[1;31m---------------------------------------------------------------------------\u001b[0m",
      "\u001b[1;31mTypeError\u001b[0m                                 Traceback (most recent call last)",
      "\u001b[1;32m<ipython-input-63-1113e7faa59e>\u001b[0m in \u001b[0;36m<module>\u001b[1;34m\u001b[0m\n\u001b[0;32m      7\u001b[0m     \u001b[1;32mimport\u001b[0m \u001b[0mheapq\u001b[0m\u001b[1;33m\u001b[0m\u001b[1;33m\u001b[0m\u001b[0m\n\u001b[0;32m      8\u001b[0m     \u001b[0mmin\u001b[0m \u001b[1;33m=\u001b[0m \u001b[0mmap\u001b[0m\u001b[1;33m(\u001b[0m\u001b[0mb\u001b[0m\u001b[1;33m.\u001b[0m\u001b[0mindex\u001b[0m\u001b[1;33m,\u001b[0m \u001b[0mheapq\u001b[0m\u001b[1;33m.\u001b[0m\u001b[0mnsmallest\u001b[0m\u001b[1;33m(\u001b[0m\u001b[1;36m3\u001b[0m\u001b[1;33m,\u001b[0m \u001b[0mb\u001b[0m\u001b[1;33m)\u001b[0m\u001b[1;33m)\u001b[0m\u001b[1;33m\u001b[0m\u001b[1;33m\u001b[0m\u001b[0m\n\u001b[1;32m----> 9\u001b[1;33m     \u001b[0msum\u001b[0m\u001b[1;33m(\u001b[0m\u001b[0mb\u001b[0m\u001b[1;33m)\u001b[0m\u001b[1;33m\u001b[0m\u001b[1;33m\u001b[0m\u001b[0m\n\u001b[0m",
      "\u001b[1;31mTypeError\u001b[0m: unsupported operand type(s) for +: 'int' and 'list'"
     ]
    }
   ],
   "source": [
    "import json\n",
    "with open('../database/hw_2.json') as f:\n",
    "    products = json.load(f)\n",
    "    step = 3\n",
    "    a = products\n",
    "    b = [a[i:i+step] for i in range(0,len(a),step)]\n",
    "    import heapq\n",
    "    min = map(b.index, heapq.nsmallest(3, b))\n",
    "    sum(b)"
   ]
  },
  {
   "cell_type": "markdown",
   "metadata": {},
   "source": [
    "#### 5. Target decides that all goods should cost at least 50 dollars. Create a new list products_50 w/ the updated prices and recalculate the total value of all the goods with these prices"
   ]
  },
  {
   "cell_type": "code",
   "execution_count": 64,
   "metadata": {},
   "outputs": [
    {
     "ename": "TypeError",
     "evalue": "'>' not supported between instances of 'list' and 'int'",
     "output_type": "error",
     "traceback": [
      "\u001b[1;31m---------------------------------------------------------------------------\u001b[0m",
      "\u001b[1;31mTypeError\u001b[0m                                 Traceback (most recent call last)",
      "\u001b[1;32m<ipython-input-64-8860f6d7e028>\u001b[0m in \u001b[0;36m<module>\u001b[1;34m\u001b[0m\n\u001b[0;32m      2\u001b[0m \u001b[1;32mwith\u001b[0m \u001b[0mopen\u001b[0m\u001b[1;33m(\u001b[0m\u001b[1;34m'../database/hw_2.json'\u001b[0m\u001b[1;33m)\u001b[0m \u001b[1;32mas\u001b[0m \u001b[0mf\u001b[0m\u001b[1;33m:\u001b[0m\u001b[1;33m\u001b[0m\u001b[1;33m\u001b[0m\u001b[0m\n\u001b[0;32m      3\u001b[0m    \u001b[0mproducts\u001b[0m \u001b[1;33m=\u001b[0m \u001b[0mjson\u001b[0m\u001b[1;33m.\u001b[0m\u001b[0mload\u001b[0m\u001b[1;33m(\u001b[0m\u001b[0mf\u001b[0m\u001b[1;33m)\u001b[0m\u001b[1;33m\u001b[0m\u001b[1;33m\u001b[0m\u001b[0m\n\u001b[1;32m----> 4\u001b[1;33m    \u001b[0mnew_list\u001b[0m \u001b[1;33m=\u001b[0m \u001b[1;33m[\u001b[0m\u001b[0mi\u001b[0m \u001b[1;32mfor\u001b[0m \u001b[0mi\u001b[0m \u001b[1;32min\u001b[0m \u001b[0mproducts\u001b[0m \u001b[1;32mif\u001b[0m \u001b[0mi\u001b[0m \u001b[1;33m>\u001b[0m \u001b[1;36m0\u001b[0m\u001b[1;33m]\u001b[0m\u001b[1;33m\u001b[0m\u001b[1;33m\u001b[0m\u001b[0m\n\u001b[0m",
      "\u001b[1;32m<ipython-input-64-8860f6d7e028>\u001b[0m in \u001b[0;36m<listcomp>\u001b[1;34m(.0)\u001b[0m\n\u001b[0;32m      2\u001b[0m \u001b[1;32mwith\u001b[0m \u001b[0mopen\u001b[0m\u001b[1;33m(\u001b[0m\u001b[1;34m'../database/hw_2.json'\u001b[0m\u001b[1;33m)\u001b[0m \u001b[1;32mas\u001b[0m \u001b[0mf\u001b[0m\u001b[1;33m:\u001b[0m\u001b[1;33m\u001b[0m\u001b[1;33m\u001b[0m\u001b[0m\n\u001b[0;32m      3\u001b[0m    \u001b[0mproducts\u001b[0m \u001b[1;33m=\u001b[0m \u001b[0mjson\u001b[0m\u001b[1;33m.\u001b[0m\u001b[0mload\u001b[0m\u001b[1;33m(\u001b[0m\u001b[0mf\u001b[0m\u001b[1;33m)\u001b[0m\u001b[1;33m\u001b[0m\u001b[1;33m\u001b[0m\u001b[0m\n\u001b[1;32m----> 4\u001b[1;33m    \u001b[0mnew_list\u001b[0m \u001b[1;33m=\u001b[0m \u001b[1;33m[\u001b[0m\u001b[0mi\u001b[0m \u001b[1;32mfor\u001b[0m \u001b[0mi\u001b[0m \u001b[1;32min\u001b[0m \u001b[0mproducts\u001b[0m \u001b[1;32mif\u001b[0m \u001b[0mi\u001b[0m \u001b[1;33m>\u001b[0m \u001b[1;36m0\u001b[0m\u001b[1;33m]\u001b[0m\u001b[1;33m\u001b[0m\u001b[1;33m\u001b[0m\u001b[0m\n\u001b[0m",
      "\u001b[1;31mTypeError\u001b[0m: '>' not supported between instances of 'list' and 'int'"
     ]
    }
   ],
   "source": [
    " import json\n",
    "with open('../database/hw_2.json') as f:\n",
    "    products = json.load(f)\n",
    "    new_list = [i for i in products if i > 0]"
   ]
  },
  {
   "cell_type": "markdown",
   "metadata": {},
   "source": [
    "### Bonus (20 points)\n",
    "Stephen's mom gives him $3000 to spend. What is the best bundle Stephen can buy? Note his mom will take his money back if he doesn't spend it.  \n",
    "  \n",
    "There is no way to solve this perfectly without creating all the combinations, which is computationally impossible. However, there are good ways to get a close to optimal bundle, and we will award points based off people's ideas there. This is a type of question you would usually see in an algorithms class, which is usually taken after 2 semesters of CS and focuses on these types of questions, so we don't expect anybody to solve this. Feel free to give a try though. Since it is a bonus question, we will not provide any assistance for it."
   ]
  },
  {
   "cell_type": "code",
   "execution_count": null,
   "metadata": {},
   "outputs": [],
   "source": []
  }
 ],
 "metadata": {
  "kernelspec": {
   "display_name": "Python 3",
   "language": "python",
   "name": "python3"
  },
  "language_info": {
   "codemirror_mode": {
    "name": "ipython",
    "version": 3
   },
   "file_extension": ".py",
   "mimetype": "text/x-python",
   "name": "python",
   "nbconvert_exporter": "python",
   "pygments_lexer": "ipython3",
   "version": "3.7.3"
  }
 },
 "nbformat": 4,
 "nbformat_minor": 2
}
