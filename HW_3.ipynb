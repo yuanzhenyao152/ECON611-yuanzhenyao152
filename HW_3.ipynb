{
 "cells": [
  {
   "cell_type": "markdown",
   "metadata": {},
   "source": [
    "<img src=\"https://images.efollett.com/htmlroot/images/templates/storeLogos/CA/864.gif\" style=\"float: right;\"> \n",
    "\n",
    "\n",
    "\n",
    "\n",
    "# ECON611\n",
    "### HW_3 -  Python: Sets and Dictionaries\n",
    "#### Due: Oct 7"
   ]
  },
  {
   "cell_type": "code",
   "execution_count": 1,
   "metadata": {},
   "outputs": [],
   "source": [
    "import json\n",
    "import sys\n",
    "sys.path.append('..')\n",
    "from util_python.gen_hw_3 import load_data"
   ]
  },
  {
   "cell_type": "markdown",
   "metadata": {},
   "source": [
    "### Warm-up (40 points)\n",
    "NOTE: the inp I give is just an example input. Your code should still work if we change the input\n",
    "\n",
    "#### 1.\n",
    "Explain what we we use each of the following for:  \n",
    "a. lists  \n",
    "  \n",
    "  \n",
    "b. dictionaries  \n",
    "  \n",
    "c. sets  \n",
    "  "
   ]
  },
  {
   "cell_type": "code",
   "execution_count": null,
   "metadata": {},
   "outputs": [],
   "source": [
    "#a，lists are elements in the sequence is assigned a number - its location, or index.\n",
    "#b, dictionaries are variable container models that can store any type of objects.\n",
    "#c, The function creates an unordered set of non-repeating elements, can perform relationship testing, delete duplicate data, and can also calculate intersections, difference sets, unions, and so on."
   ]
  },
  {
   "cell_type": "markdown",
   "metadata": {},
   "source": [
    "#### 2. \n",
    "Identify all the unique values in the dictionary  \n",
    "inp: ```inp = {1:2, 2:3, 3:4, 4:2, 5:2}```  \n",
    "out: ```[2 ,3 ,4]```"
   ]
  },
  {
   "cell_type": "code",
   "execution_count": 2,
   "metadata": {},
   "outputs": [
    {
     "name": "stdout",
     "output_type": "stream",
     "text": [
      "The unique values in the dictionary are : [2, 3, 4]\n"
     ]
    }
   ],
   "source": [
    "inp = {1:2, 2:3, 3:4, 4:2, 5:2}\n",
    "\n",
    "hw3list = [{1:2, 2:3, 3:4, 4:2, 5:2}] \n",
    "  \n",
    "# Using set() + values() + dictionary comprehension \n",
    "# Get Unique values from list of dictionary \n",
    "res = list(set(val for dic in hw3list for val in dic.values())) \n",
    "      \n",
    "# printing result  \n",
    "print(\"The unique values in the dictionary are : \" + str(res)) "
   ]
  },
  {
   "cell_type": "markdown",
   "metadata": {},
   "source": [
    "#### 3.\n",
    "return a list of the values of a dictionary when its corresponding key is an integer less than 10.  \n",
    "inp: ```{'Econ': '611', 1:2, 14:15, 6:'14'}```  \n",
    "out: ```[2, 14]```"
   ]
  },
  {
   "cell_type": "code",
   "execution_count": 14,
   "metadata": {},
   "outputs": [
    {
     "ename": "SyntaxError",
     "evalue": "invalid syntax (<ipython-input-14-6e25efc9da0f>, line 3)",
     "output_type": "error",
     "traceback": [
      "\u001b[1;36m  File \u001b[1;32m\"<ipython-input-14-6e25efc9da0f>\"\u001b[1;36m, line \u001b[1;32m3\u001b[0m\n\u001b[1;33m    list(dict.values(<10))\u001b[0m\n\u001b[1;37m                     ^\u001b[0m\n\u001b[1;31mSyntaxError\u001b[0m\u001b[1;31m:\u001b[0m invalid syntax\n"
     ]
    }
   ],
   "source": [
    "inp = {'Econ': '611', 1:2, 14:15, 6:'14'}\n",
    "dict.values(inp)\n",
    "list(dict.values(<10))"
   ]
  },
  {
   "cell_type": "markdown",
   "metadata": {},
   "source": [
    "#### 4.\n",
    "Given a string, find the word with the highest count.  \n",
    "a. Separate the string into words  \n",
    "b. keep a count of the words  \n",
    "c. return the word with the highest count  \n",
    "inp: ```\"I went to school to study.\"```  \n",
    "out: ```\"to: 2\"```"
   ]
  },
  {
   "cell_type": "code",
   "execution_count": 15,
   "metadata": {},
   "outputs": [
    {
     "name": "stdout",
     "output_type": "stream",
     "text": [
      "The number of words in string are : 6\n"
     ]
    }
   ],
   "source": [
    "inp = \"I went to school to study.\"\n",
    "res = len(inp.split()) \n",
    "  \n",
    "# printing result \n",
    "print (\"The number of words in string are : \" +  str(res)) "
   ]
  },
  {
   "cell_type": "markdown",
   "metadata": {},
   "source": [
    "### Questions (60 points)\n",
    "Make sure to have the util_python directory in your repo so load_data() works"
   ]
  },
  {
   "cell_type": "code",
   "execution_count": 4,
   "metadata": {},
   "outputs": [],
   "source": [
    "import json\n",
    "import pandas as pd\n",
    "\n",
    "\n",
    "def load_data():\n",
    "    df = pd.read_csv('../database/AB_NYC_2019.csv')\n",
    "    df = df[['id', 'host_id', 'neighbourhood_group', 'neighbourhood', 'price', \n",
    "         'minimum_nights', 'room_type']]\n",
    "    df.set_index('id', inplace=True)\n",
    "    return json.loads(df.to_json(orient='index'))"
   ]
  },
  {
   "cell_type": "code",
   "execution_count": 6,
   "metadata": {
    "scrolled": true
   },
   "outputs": [
    {
     "data": {
      "text/plain": [
       "{'host_id': 2787,\n",
       " 'neighbourhood_group': 'Brooklyn',\n",
       " 'neighbourhood': 'Kensington',\n",
       " 'price': 149,\n",
       " 'minimum_nights': 1,\n",
       " 'room_type': 'Private room'}"
      ]
     },
     "execution_count": 6,
     "metadata": {},
     "output_type": "execute_result"
    }
   ],
   "source": [
    "data['2539']"
   ]
  },
  {
   "cell_type": "markdown",
   "metadata": {},
   "source": [
    "```data``` contains a dictionary of airbnb New york data. It is a nested dictionary, with the formath\n",
    "```{'house_id': {Dictionary of information about house}}```"
   ]
  },
  {
   "cell_type": "markdown",
   "metadata": {},
   "source": [
    "#### 1.\n",
    "a. Find the number of listings in each borough.  \n",
    "b. Find the number of listings of each listing type (house/private room/shared room)"
   ]
  },
  {
   "cell_type": "code",
   "execution_count": 6,
   "metadata": {},
   "outputs": [
    {
     "name": "stdout",
     "output_type": "stream",
     "text": [
      "{'host_id': 1, 'neighbourhood_group': 1, 'neighbourhood': 1, 'price': 1, 'minimum_nights': 1, 'room_type': 1}\n"
     ]
    }
   ],
   "source": [
    "import json\n",
    "import pandas as pd\n",
    "\n",
    "\n",
    "def load_data():\n",
    "    df = pd.read_csv('../database/AB_NYC_2019.csv')\n",
    "    df = df[['id', 'host_id', 'neighbourhood_group', 'neighbourhood', 'price', \n",
    "         'minimum_nights', 'room_type']]\n",
    "    df.set_index('id', inplace=True)\n",
    "    return json.loads(df.to_json(orient='index'))\n",
    "data=load_data()\n",
    "data['2539']\n",
    "dict = {}\n",
    "for key in data['2539']:\n",
    "    dict[key] = dict.get(key, 0) + 1\n",
    "print (dict)"
   ]
  },
  {
   "cell_type": "markdown",
   "metadata": {},
   "source": [
    "#### 2. Create a new dictionary that is grouped at the host level. \n",
    "The output should be ```{host_id:[{Dictionary of listing 1}, {listing 2},...]}```   \n",
    "How many listings do hosts have on average?"
   ]
  },
  {
   "cell_type": "code",
   "execution_count": 7,
   "metadata": {},
   "outputs": [
    {
     "name": "stdout",
     "output_type": "stream",
     "text": [
      "{}\n",
      "{'host_id': 1}\n"
     ]
    }
   ],
   "source": [
    "import json\n",
    "import pandas as pd\n",
    "\n",
    "\n",
    "def load_data():\n",
    "    df = pd.read_csv('../database/AB_NYC_2019.csv')\n",
    "    df = df[['id', 'host_id', 'neighbourhood_group', 'neighbourhood', 'price', \n",
    "         'minimum_nights', 'room_type']]\n",
    "    df.set_index('id', inplace=True)\n",
    "    return json.loads(df.to_json(orient='index'))\n",
    "data=load_data()\n",
    "data['2539']\n",
    "stats = {}\n",
    "print(stats)\n",
    "key = 'host_id'\n",
    "\n",
    "if key not in stats:\n",
    "    stats[key] = 0\n",
    "stats[key] +=1\n",
    "print(stats)"
   ]
  },
  {
   "cell_type": "markdown",
   "metadata": {},
   "source": [
    "#### 3. Do hosts have many listings across boroughs? Do they generally stick to one type of room?"
   ]
  },
  {
   "cell_type": "code",
   "execution_count": 11,
   "metadata": {},
   "outputs": [
    {
     "ename": "NameError",
     "evalue": "name 'get' is not defined",
     "output_type": "error",
     "traceback": [
      "\u001b[1;31m---------------------------------------------------------------------------\u001b[0m",
      "\u001b[1;31mNameError\u001b[0m                                 Traceback (most recent call last)",
      "\u001b[1;32m<ipython-input-11-a17f2011917c>\u001b[0m in \u001b[0;36m<module>\u001b[1;34m\u001b[0m\n\u001b[0;32m     11\u001b[0m \u001b[0mdata\u001b[0m\u001b[1;33m=\u001b[0m\u001b[0mload_data\u001b[0m\u001b[1;33m(\u001b[0m\u001b[1;33m)\u001b[0m\u001b[1;33m\u001b[0m\u001b[1;33m\u001b[0m\u001b[0m\n\u001b[0;32m     12\u001b[0m \u001b[0mdata\u001b[0m\u001b[1;33m[\u001b[0m\u001b[1;34m'2539'\u001b[0m\u001b[1;33m]\u001b[0m\u001b[1;33m\u001b[0m\u001b[1;33m\u001b[0m\u001b[0m\n\u001b[1;32m---> 13\u001b[1;33m \u001b[0mprint\u001b[0m\u001b[1;33m(\u001b[0m\u001b[0mget\u001b[0m\u001b[1;33m(\u001b[0m\u001b[1;34m'room_type'\u001b[0m\u001b[1;33m)\u001b[0m\u001b[1;33m)\u001b[0m\u001b[1;33m\u001b[0m\u001b[1;33m\u001b[0m\u001b[0m\n\u001b[0m\u001b[0;32m     14\u001b[0m \u001b[0mprint\u001b[0m\u001b[1;33m(\u001b[0m\u001b[1;34m'\\n'\u001b[0m\u001b[1;33m)\u001b[0m\u001b[1;33m\u001b[0m\u001b[1;33m\u001b[0m\u001b[0m\n\u001b[0;32m     15\u001b[0m \u001b[0mprint\u001b[0m\u001b[1;33m(\u001b[0m\u001b[0mhousehold\u001b[0m\u001b[1;33m.\u001b[0m\u001b[0mget\u001b[0m\u001b[1;33m(\u001b[0m\u001b[1;33m(\u001b[0m\u001b[1;34m\"neighbourhood_group\"\u001b[0m\u001b[1;33m)\u001b[0m\u001b[1;33m)\u001b[0m\u001b[1;33m)\u001b[0m\u001b[1;33m\u001b[0m\u001b[1;33m\u001b[0m\u001b[0m\n",
      "\u001b[1;31mNameError\u001b[0m: name 'get' is not defined"
     ]
    }
   ],
   "source": [
    "import json\n",
    "import pandas as pd\n",
    "\n",
    "\n",
    "def load_data():\n",
    "    df = pd.read_csv('../database/AB_NYC_2019.csv')\n",
    "    df = df[['id', 'host_id', 'neighbourhood_group', 'neighbourhood', 'price', \n",
    "         'minimum_nights', 'room_type']]\n",
    "    df.set_index('id', inplace=True)\n",
    "    return json.loads(df.to_json(orient='index'))\n",
    "data=load_data()\n",
    "data['2539']\n",
    "print(get('room_type'))\n",
    "print('\\n')\n",
    "print(household.get((\"neighbourhood_group\")))\n",
    "print('\\n')"
   ]
  },
  {
   "cell_type": "markdown",
   "metadata": {},
   "source": [
    "#### 4. How many neighbourhoods are in each bourough?"
   ]
  },
  {
   "cell_type": "code",
   "execution_count": 12,
   "metadata": {},
   "outputs": [
    {
     "name": "stdout",
     "output_type": "stream",
     "text": [
      "{}\n",
      "{'neighbourhood': 1}\n"
     ]
    }
   ],
   "source": [
    "import json\n",
    "import pandas as pd\n",
    "\n",
    "\n",
    "def load_data():\n",
    "    df = pd.read_csv('../database/AB_NYC_2019.csv')\n",
    "    df = df[['id', 'host_id', 'neighbourhood_group', 'neighbourhood', 'price', \n",
    "         'minimum_nights', 'room_type']]\n",
    "    df.set_index('id', inplace=True)\n",
    "    return json.loads(df.to_json(orient='index'))\n",
    "data=load_data()\n",
    "data['2539']\n",
    "stats = {}\n",
    "print(stats)\n",
    "key = 'neighbourhood'\n",
    "\n",
    "if key not in stats:\n",
    "    stats[key] = 0\n",
    "stats[key] +=1\n",
    "print(stats)"
   ]
  },
  {
   "cell_type": "code",
   "execution_count": null,
   "metadata": {},
   "outputs": [],
   "source": []
  }
 ],
 "metadata": {
  "kernelspec": {
   "display_name": "Python 3",
   "language": "python",
   "name": "python3"
  },
  "language_info": {
   "codemirror_mode": {
    "name": "ipython",
    "version": 3
   },
   "file_extension": ".py",
   "mimetype": "text/x-python",
   "name": "python",
   "nbconvert_exporter": "python",
   "pygments_lexer": "ipython3",
   "version": "3.7.3"
  }
 },
 "nbformat": 4,
 "nbformat_minor": 2
}
